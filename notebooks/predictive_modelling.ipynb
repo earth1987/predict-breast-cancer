{
 "cells": [
  {
   "cell_type": "code",
   "execution_count": 1,
   "id": "4438d5d9-0e08-4298-8b70-ac4655e9462b",
   "metadata": {},
   "outputs": [],
   "source": [
    "from matplotlib import pyplot as plt\n",
    "import numpy as np\n",
    "import pandas as pd\n",
    "import seaborn as sns\n",
    "from sklearn.preprocessing import StandardScaler\n",
    "from sklearn.decomposition import PCA\n",
    "from sklearn.model_selection import train_test_split\n",
    "\n",
    "import sys\n",
    "sys.path.insert(0, \"C:\\\\Users\\\\billy\\\\OneDrive\\\\Documents\\\\Python Scripts\\\\1. Portfolio\\\\predict-breast-cancer\\\\predict-breast-cancer\")\n",
    "import custom_funcs as cf"
   ]
  },
  {
   "cell_type": "markdown",
   "id": "fd5ca2da-c8bf-498e-8e62-64d183ca2880",
   "metadata": {},
   "source": [
    "## Summary\n",
    "\n",
    "**a) Context**\n",
    "\n",
    "* [Breast Cancer Wisconsin (Diagnostic) Dataset](https://archive.ics.uci.edu/dataset/17/breast+cancer+wisconsin+diagnostic) is a real world multivariate dataset containing 30 continuous features and a binary diagnosis target.\n",
    "\n",
    "* Features are computed from a digitized image of a fine needle aspirate (FNA) of a breast mass. They describe characteristics of the cell nuclei present in the image.\n",
    "\n",
    "**b) Model**\n",
    "\n",
    "* The categorical target is binary. Consequently, the problem will be approached as a binary classification.\n",
    "\n",
    "* No baseline model is available for benchmarking. The model will therefore be compared to a no-skill classifier.\n",
    "\n",
    "**c) Technical requirements**\n",
    "\n",
    "* In reality, predictions by the model would likely be generated for a batch of inputs on a recurring schedule (e.g. weekly) rather than processing each input data point individually in real time. Predictions would then nr stored in a database and made available to end users.\n",
    "\n",
    "* At this stage, the model will not be deployed. However, batch inference will be assumed. This has several advantages:\n",
    "\n",
    "    - there aren't low latency requirements (which place constraints on infrastructure and model complexity)\n",
    "\n",
    "    - scalable compute resources can be used (e.g. batch inference using parallelisation via Spark)\n",
    "\n",
    "    - predictions generated during batch inference can be analyzed and post processed before being seen by stakeholders\n",
    "\n",
    "**d) Data requirements**\n",
    "\n",
    "* No further data collection is required.\n",
    "\n",
    "* No personal data is involved. Consequently there are no apparent legal/ethical constraints (e.g. GDPR)."
   ]
  }
 ],
 "metadata": {
  "kernelspec": {
   "display_name": "topic_analyses",
   "language": "python",
   "name": "topic_analyses"
  },
  "language_info": {
   "codemirror_mode": {
    "name": "ipython",
    "version": 3
   },
   "file_extension": ".py",
   "mimetype": "text/x-python",
   "name": "python",
   "nbconvert_exporter": "python",
   "pygments_lexer": "ipython3",
   "version": "3.11.5"
  }
 },
 "nbformat": 4,
 "nbformat_minor": 5
}
