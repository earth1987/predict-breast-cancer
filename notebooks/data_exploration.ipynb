{
 "cells": [
  {
   "cell_type": "code",
   "execution_count": 1,
   "id": "c930d2e1-186c-4ec0-a3f7-06cd4b266f83",
   "metadata": {},
   "outputs": [],
   "source": [
    "from matplotlib import pyplot as plt\n",
    "import numpy as np\n",
    "import pandas as pd\n",
    "import seaborn as sns\n",
    "from sklearn.preprocessing import StandardScaler\n",
    "from sklearn.decomposition import PCA\n",
    "from sklearn.model_selection import train_test_split\n",
    "\n",
    "import sys\n",
    "sys.path.insert(0, \"C:\\\\Users\\\\billy\\\\OneDrive\\\\Documents\\\\Python Scripts\\\\1. Portfolio\\\\predict-breast-cancer\\\\predict-breast-cancer\")\n",
    "import custom_funcs as cf"
   ]
  },
  {
   "cell_type": "markdown",
   "id": "f4d46423-6556-41b5-98f2-14e5d3637772",
   "metadata": {},
   "source": [
    "# Predicting breast cancer\n",
    "\n",
    "* Anticipating and proactively addressing health challenges is a critical aspect of modern healthcare as early detection often leads to improved patient outcomes. For instance, if healthcare providers can diagnose cancer earlier, treatment strategies can be implemented before the progression of the disease. The goal of this project was, therefore, to predict breast cancer diagnosis using cell nuclei characteristics extracted from images of breast tissue.\n",
    "\n",
    "* This workbook details the exploration of the [Breast Cancer Wisconsin (Diagnostic) dataset](https://archive.ics.uci.edu/dataset/17/breast+cancer+wisconsin+diagnostic). This is a real world multivariate dataset containing $30$ continuous features and a binary diagnosis target."
   ]
  },
  {
   "cell_type": "markdown",
   "id": "82f1d9b4-7c86-4e7f-b701-b80543f5bc4c",
   "metadata": {},
   "source": [
    "# Summary"
   ]
  },
  {
   "cell_type": "markdown",
   "id": "c09c1c1a-6d74-4f7e-987b-4b87b70d16e0",
   "metadata": {},
   "source": [
    "Descriptive statistics and frequency distributions are computed for all variables during data exploration & cleansing. Key observations and actions are outlined below.\n",
    "\n",
    "1. Erroneous Data\n",
    "   \n",
    "    * No duplicate rows are present.\n",
    "    \n",
    "    * Data exploration did not reveal any errors.\n",
    "  \n",
    "2. Distributions\n",
    "\n",
    "    * All distributions are non-normal with a positive skew.\n",
    "\n",
    "    * Kurtosis was not formally measured. However, outliers appear to be present for the following variables: perimeter error, area error and fractal dimension error.\n",
    "\n",
    "    * The cardinality of the target variable is $2$. There is a slight class imbalance with $62.7\\%$ of instances corresponding to a cancer diagnosis.\n",
    "\n",
    "3. Missing values\n",
    "\n",
    "    * No missing values are present.\n",
    "  \n",
    "4. Outliers\n",
    "\n",
    "    * The outliers in the 'perimeter error', 'area error' and 'fractal dimension' error column are left untouched. Instead their influence on later modelling will be assessed. If a value significantly affects outcomes, it may be excluded."
   ]
  },
  {
   "cell_type": "markdown",
   "id": "8825352e-d225-4cad-86b6-f36446a82a7d",
   "metadata": {},
   "source": [
    "# Import raw data\n",
    "* The raw data contains $30$ predictive features and a binary classification target. There are a total of $569$ records."
   ]
  },
  {
   "cell_type": "code",
   "execution_count": 2,
   "id": "ab773083-9ec2-4e64-b2a8-9ec9ceb6ea42",
   "metadata": {},
   "outputs": [
    {
     "data": {
      "text/html": [
       "<div>\n",
       "<style scoped>\n",
       "    .dataframe tbody tr th:only-of-type {\n",
       "        vertical-align: middle;\n",
       "    }\n",
       "\n",
       "    .dataframe tbody tr th {\n",
       "        vertical-align: top;\n",
       "    }\n",
       "\n",
       "    .dataframe thead th {\n",
       "        text-align: right;\n",
       "    }\n",
       "</style>\n",
       "<table border=\"1\" class=\"dataframe\">\n",
       "  <thead>\n",
       "    <tr style=\"text-align: right;\">\n",
       "      <th></th>\n",
       "      <th>mean radius</th>\n",
       "      <th>mean texture</th>\n",
       "      <th>mean perimeter</th>\n",
       "      <th>mean area</th>\n",
       "      <th>mean smoothness</th>\n",
       "      <th>mean compactness</th>\n",
       "      <th>mean concavity</th>\n",
       "      <th>mean concave points</th>\n",
       "      <th>mean symmetry</th>\n",
       "      <th>mean fractal dimension</th>\n",
       "      <th>...</th>\n",
       "      <th>worst texture</th>\n",
       "      <th>worst perimeter</th>\n",
       "      <th>worst area</th>\n",
       "      <th>worst smoothness</th>\n",
       "      <th>worst compactness</th>\n",
       "      <th>worst concavity</th>\n",
       "      <th>worst concave points</th>\n",
       "      <th>worst symmetry</th>\n",
       "      <th>worst fractal dimension</th>\n",
       "      <th>target</th>\n",
       "    </tr>\n",
       "  </thead>\n",
       "  <tbody>\n",
       "    <tr>\n",
       "      <th>0</th>\n",
       "      <td>17.99</td>\n",
       "      <td>10.38</td>\n",
       "      <td>122.80</td>\n",
       "      <td>1001.0</td>\n",
       "      <td>0.11840</td>\n",
       "      <td>0.27760</td>\n",
       "      <td>0.3001</td>\n",
       "      <td>0.14710</td>\n",
       "      <td>0.2419</td>\n",
       "      <td>0.07871</td>\n",
       "      <td>...</td>\n",
       "      <td>17.33</td>\n",
       "      <td>184.60</td>\n",
       "      <td>2019.0</td>\n",
       "      <td>0.1622</td>\n",
       "      <td>0.6656</td>\n",
       "      <td>0.7119</td>\n",
       "      <td>0.2654</td>\n",
       "      <td>0.4601</td>\n",
       "      <td>0.11890</td>\n",
       "      <td>0</td>\n",
       "    </tr>\n",
       "    <tr>\n",
       "      <th>1</th>\n",
       "      <td>20.57</td>\n",
       "      <td>17.77</td>\n",
       "      <td>132.90</td>\n",
       "      <td>1326.0</td>\n",
       "      <td>0.08474</td>\n",
       "      <td>0.07864</td>\n",
       "      <td>0.0869</td>\n",
       "      <td>0.07017</td>\n",
       "      <td>0.1812</td>\n",
       "      <td>0.05667</td>\n",
       "      <td>...</td>\n",
       "      <td>23.41</td>\n",
       "      <td>158.80</td>\n",
       "      <td>1956.0</td>\n",
       "      <td>0.1238</td>\n",
       "      <td>0.1866</td>\n",
       "      <td>0.2416</td>\n",
       "      <td>0.1860</td>\n",
       "      <td>0.2750</td>\n",
       "      <td>0.08902</td>\n",
       "      <td>0</td>\n",
       "    </tr>\n",
       "    <tr>\n",
       "      <th>2</th>\n",
       "      <td>19.69</td>\n",
       "      <td>21.25</td>\n",
       "      <td>130.00</td>\n",
       "      <td>1203.0</td>\n",
       "      <td>0.10960</td>\n",
       "      <td>0.15990</td>\n",
       "      <td>0.1974</td>\n",
       "      <td>0.12790</td>\n",
       "      <td>0.2069</td>\n",
       "      <td>0.05999</td>\n",
       "      <td>...</td>\n",
       "      <td>25.53</td>\n",
       "      <td>152.50</td>\n",
       "      <td>1709.0</td>\n",
       "      <td>0.1444</td>\n",
       "      <td>0.4245</td>\n",
       "      <td>0.4504</td>\n",
       "      <td>0.2430</td>\n",
       "      <td>0.3613</td>\n",
       "      <td>0.08758</td>\n",
       "      <td>0</td>\n",
       "    </tr>\n",
       "    <tr>\n",
       "      <th>3</th>\n",
       "      <td>11.42</td>\n",
       "      <td>20.38</td>\n",
       "      <td>77.58</td>\n",
       "      <td>386.1</td>\n",
       "      <td>0.14250</td>\n",
       "      <td>0.28390</td>\n",
       "      <td>0.2414</td>\n",
       "      <td>0.10520</td>\n",
       "      <td>0.2597</td>\n",
       "      <td>0.09744</td>\n",
       "      <td>...</td>\n",
       "      <td>26.50</td>\n",
       "      <td>98.87</td>\n",
       "      <td>567.7</td>\n",
       "      <td>0.2098</td>\n",
       "      <td>0.8663</td>\n",
       "      <td>0.6869</td>\n",
       "      <td>0.2575</td>\n",
       "      <td>0.6638</td>\n",
       "      <td>0.17300</td>\n",
       "      <td>0</td>\n",
       "    </tr>\n",
       "    <tr>\n",
       "      <th>4</th>\n",
       "      <td>20.29</td>\n",
       "      <td>14.34</td>\n",
       "      <td>135.10</td>\n",
       "      <td>1297.0</td>\n",
       "      <td>0.10030</td>\n",
       "      <td>0.13280</td>\n",
       "      <td>0.1980</td>\n",
       "      <td>0.10430</td>\n",
       "      <td>0.1809</td>\n",
       "      <td>0.05883</td>\n",
       "      <td>...</td>\n",
       "      <td>16.67</td>\n",
       "      <td>152.20</td>\n",
       "      <td>1575.0</td>\n",
       "      <td>0.1374</td>\n",
       "      <td>0.2050</td>\n",
       "      <td>0.4000</td>\n",
       "      <td>0.1625</td>\n",
       "      <td>0.2364</td>\n",
       "      <td>0.07678</td>\n",
       "      <td>0</td>\n",
       "    </tr>\n",
       "  </tbody>\n",
       "</table>\n",
       "<p>5 rows × 31 columns</p>\n",
       "</div>"
      ],
      "text/plain": [
       "   mean radius  mean texture  mean perimeter  mean area  mean smoothness  \\\n",
       "0        17.99         10.38          122.80     1001.0          0.11840   \n",
       "1        20.57         17.77          132.90     1326.0          0.08474   \n",
       "2        19.69         21.25          130.00     1203.0          0.10960   \n",
       "3        11.42         20.38           77.58      386.1          0.14250   \n",
       "4        20.29         14.34          135.10     1297.0          0.10030   \n",
       "\n",
       "   mean compactness  mean concavity  mean concave points  mean symmetry  \\\n",
       "0           0.27760          0.3001              0.14710         0.2419   \n",
       "1           0.07864          0.0869              0.07017         0.1812   \n",
       "2           0.15990          0.1974              0.12790         0.2069   \n",
       "3           0.28390          0.2414              0.10520         0.2597   \n",
       "4           0.13280          0.1980              0.10430         0.1809   \n",
       "\n",
       "   mean fractal dimension  ...  worst texture  worst perimeter  worst area  \\\n",
       "0                 0.07871  ...          17.33           184.60      2019.0   \n",
       "1                 0.05667  ...          23.41           158.80      1956.0   \n",
       "2                 0.05999  ...          25.53           152.50      1709.0   \n",
       "3                 0.09744  ...          26.50            98.87       567.7   \n",
       "4                 0.05883  ...          16.67           152.20      1575.0   \n",
       "\n",
       "   worst smoothness  worst compactness  worst concavity  worst concave points  \\\n",
       "0            0.1622             0.6656           0.7119                0.2654   \n",
       "1            0.1238             0.1866           0.2416                0.1860   \n",
       "2            0.1444             0.4245           0.4504                0.2430   \n",
       "3            0.2098             0.8663           0.6869                0.2575   \n",
       "4            0.1374             0.2050           0.4000                0.1625   \n",
       "\n",
       "   worst symmetry  worst fractal dimension  target  \n",
       "0          0.4601                  0.11890       0  \n",
       "1          0.2750                  0.08902       0  \n",
       "2          0.3613                  0.08758       0  \n",
       "3          0.6638                  0.17300       0  \n",
       "4          0.2364                  0.07678       0  \n",
       "\n",
       "[5 rows x 31 columns]"
      ]
     },
     "execution_count": 2,
     "metadata": {},
     "output_type": "execute_result"
    }
   ],
   "source": [
    "from sklearn.datasets import load_breast_cancer\n",
    "data = load_breast_cancer(as_frame=True)\n",
    "raw_df = pd.concat([data[\"data\"], data[\"target\"]], axis=1)\n",
    "raw_df.head(5)"
   ]
  },
  {
   "cell_type": "code",
   "execution_count": 3,
   "id": "e482fce7-9866-4bb0-824e-57b7081bb729",
   "metadata": {},
   "outputs": [
    {
     "name": "stdout",
     "output_type": "stream",
     "text": [
      "Number of rows: 569\n",
      "Number of columns: 31\n"
     ]
    }
   ],
   "source": [
    "# Dimensions\n",
    "print(f\"Number of rows: {raw_df.shape[0]}\")\n",
    "print(f\"Number of columns: {raw_df.shape[1]}\")"
   ]
  },
  {
   "cell_type": "markdown",
   "id": "d876593c-9d76-4b5f-8a0d-5911bd6e0838",
   "metadata": {},
   "source": [
    "# Data exploration"
   ]
  },
  {
   "cell_type": "markdown",
   "id": "e66900f9-deb9-43c0-a19e-99aa293d6e93",
   "metadata": {},
   "source": [
    "## Variable types\n"
   ]
  },
  {
   "cell_type": "markdown",
   "id": "3b6400e6-b10c-46ab-aebe-cb46156aea25",
   "metadata": {},
   "source": [
    "**1) Categorical variables**\n",
    "\n",
    "* Nominal variables = Categories or groups that have *no* inherent order or ranking.\n",
    "  \n",
    "* Ordinal variables = Categories or groups with a meaningful order or ranking.\n",
    "\n",
    "    Note: It differs from the interval scale and ratio scale by not having category widths that represent equal increments of the underlying attribute\n",
    "\n",
    "| Variable | Type  |\n",
    "| -------- | ----- |\n",
    "| Target | Nominal |"
   ]
  },
  {
   "cell_type": "markdown",
   "id": "8bbf8e0c-1ddc-4efd-bec4-6adac36e55a5",
   "metadata": {},
   "source": [
    "**2) Continuous variables**\n",
    "\n",
    "* Interval variables = A quantitative scale with a meaningful order or ranking *and* equal distances between adjacent values.\n",
    "\n",
    "    Note: It differs from a ratio variable in that zero is an arbitrary point, not a complete absence of the variable.\n",
    "\n",
    "* Ratio variables = A quantitative scale with a meaningful order or ranking *and* equal distances between adjacent values *and* a true zero.\n",
    "\n",
    "| Variable | Type  |\n",
    "| -------- | ----- |\n",
    "| Mean radius | Ratio |\n",
    "| Mean texture | Ratio |\n",
    "| Mean perimeter | Ratio |\n",
    "| Mean area | Ratio |\n",
    "| Mean smoothness | Ratio |\n",
    "| Mean compactness | Ratio |\n",
    "| Mean concavity | Ratio |\n",
    "| Mean concave points | Ratio |\n",
    "| Mean symmetry | Ratio |\n",
    "| Mean fractal dimension | Ratio |\n",
    "| Radius error | Interval |\n",
    "| Texture error | Interval |\n",
    "| Perimeter error | Interval |\n",
    "| Area error | Interval |\n",
    "| Smoothness error | Interval |\n",
    "| Compactness error | Interval |\n",
    "| Concavity error | Interval |\n",
    "| Concave points error | Interval |\n",
    "| Symmetry error | Interval |\n",
    "| Fractal dimension error| Interval |\n",
    "| Worst radius | Ratio |\n",
    "| Worst texture | Ratio |\n",
    "| Worst perimeter | Ratio |\n",
    "| Worst area | Ratio |\n",
    "| Worst smoothness | Ratio |\n",
    "| Worst compactness | Ratio |\n",
    "| Worst concavity | Ratio |\n",
    "| Worst concave points | Ratio |\n",
    "| Worst symmetry | Ratio |\n",
    "| Worst fractal dimension | Ratio |"
   ]
  },
  {
   "cell_type": "markdown",
   "id": "57c9f2bd-e4f5-45bc-97b6-6085e246c812",
   "metadata": {},
   "source": [
    "## Data types\n",
    "* The data type for the 'target' feature is updated to object."
   ]
  },
  {
   "cell_type": "code",
   "execution_count": 4,
   "id": "ac83515b-329b-4a07-9119-3b2e843f8361",
   "metadata": {},
   "outputs": [
    {
     "name": "stdout",
     "output_type": "stream",
     "text": [
      "<class 'pandas.core.frame.DataFrame'>\n",
      "RangeIndex: 569 entries, 0 to 568\n",
      "Data columns (total 31 columns):\n",
      " #   Column                   Non-Null Count  Dtype  \n",
      "---  ------                   --------------  -----  \n",
      " 0   mean radius              569 non-null    float64\n",
      " 1   mean texture             569 non-null    float64\n",
      " 2   mean perimeter           569 non-null    float64\n",
      " 3   mean area                569 non-null    float64\n",
      " 4   mean smoothness          569 non-null    float64\n",
      " 5   mean compactness         569 non-null    float64\n",
      " 6   mean concavity           569 non-null    float64\n",
      " 7   mean concave points      569 non-null    float64\n",
      " 8   mean symmetry            569 non-null    float64\n",
      " 9   mean fractal dimension   569 non-null    float64\n",
      " 10  radius error             569 non-null    float64\n",
      " 11  texture error            569 non-null    float64\n",
      " 12  perimeter error          569 non-null    float64\n",
      " 13  area error               569 non-null    float64\n",
      " 14  smoothness error         569 non-null    float64\n",
      " 15  compactness error        569 non-null    float64\n",
      " 16  concavity error          569 non-null    float64\n",
      " 17  concave points error     569 non-null    float64\n",
      " 18  symmetry error           569 non-null    float64\n",
      " 19  fractal dimension error  569 non-null    float64\n",
      " 20  worst radius             569 non-null    float64\n",
      " 21  worst texture            569 non-null    float64\n",
      " 22  worst perimeter          569 non-null    float64\n",
      " 23  worst area               569 non-null    float64\n",
      " 24  worst smoothness         569 non-null    float64\n",
      " 25  worst compactness        569 non-null    float64\n",
      " 26  worst concavity          569 non-null    float64\n",
      " 27  worst concave points     569 non-null    float64\n",
      " 28  worst symmetry           569 non-null    float64\n",
      " 29  worst fractal dimension  569 non-null    float64\n",
      " 30  target                   569 non-null    int32  \n",
      "dtypes: float64(30), int32(1)\n",
      "memory usage: 135.7 KB\n"
     ]
    },
    {
     "data": {
      "text/plain": [
       "None"
      ]
     },
     "metadata": {},
     "output_type": "display_data"
    },
    {
     "name": "stdout",
     "output_type": "stream",
     "text": [
      "\n",
      "\n"
     ]
    },
    {
     "data": {
      "text/plain": [
       "float64    30\n",
       "int32       1\n",
       "Name: count, dtype: int64"
      ]
     },
     "metadata": {},
     "output_type": "display_data"
    }
   ],
   "source": [
    "# Data types\n",
    "display(raw_df.info())\n",
    "print(\"\\n\")\n",
    "display(raw_df.dtypes.value_counts())"
   ]
  },
  {
   "cell_type": "code",
   "execution_count": 5,
   "id": "d81d1c9a-564d-4262-b92b-30a871689cdc",
   "metadata": {},
   "outputs": [],
   "source": [
    "# Update dtypes\n",
    "raw_df['target'] = raw_df['target'].astype('object')"
   ]
  },
  {
   "cell_type": "markdown",
   "id": "67068172-b945-43e0-a23b-df701a0c6e61",
   "metadata": {},
   "source": [
    "## Summary statistics"
   ]
  },
  {
   "cell_type": "markdown",
   "id": "761e4563-4913-4b8d-8643-3862ec0ef760",
   "metadata": {},
   "source": [
    "**_1) Continuous variables_**\n",
    "\n",
    "* The mean and median values differ substantially for some variables (e.g. worst area). This suggests not all continuous variables exhibit symmetric frequency distributions."
   ]
  },
  {
   "cell_type": "code",
   "execution_count": 6,
   "id": "55139e4f-1672-4f8d-8ebc-497da6f70135",
   "metadata": {},
   "outputs": [
    {
     "data": {
      "text/html": [
       "<div>\n",
       "<style scoped>\n",
       "    .dataframe tbody tr th:only-of-type {\n",
       "        vertical-align: middle;\n",
       "    }\n",
       "\n",
       "    .dataframe tbody tr th {\n",
       "        vertical-align: top;\n",
       "    }\n",
       "\n",
       "    .dataframe thead th {\n",
       "        text-align: right;\n",
       "    }\n",
       "</style>\n",
       "<table border=\"1\" class=\"dataframe\">\n",
       "  <thead>\n",
       "    <tr style=\"text-align: right;\">\n",
       "      <th></th>\n",
       "      <th>mean radius</th>\n",
       "      <th>mean texture</th>\n",
       "      <th>mean perimeter</th>\n",
       "      <th>mean area</th>\n",
       "      <th>mean smoothness</th>\n",
       "      <th>mean compactness</th>\n",
       "      <th>mean concavity</th>\n",
       "      <th>mean concave points</th>\n",
       "      <th>mean symmetry</th>\n",
       "      <th>mean fractal dimension</th>\n",
       "      <th>...</th>\n",
       "      <th>worst radius</th>\n",
       "      <th>worst texture</th>\n",
       "      <th>worst perimeter</th>\n",
       "      <th>worst area</th>\n",
       "      <th>worst smoothness</th>\n",
       "      <th>worst compactness</th>\n",
       "      <th>worst concavity</th>\n",
       "      <th>worst concave points</th>\n",
       "      <th>worst symmetry</th>\n",
       "      <th>worst fractal dimension</th>\n",
       "    </tr>\n",
       "  </thead>\n",
       "  <tbody>\n",
       "    <tr>\n",
       "      <th>count</th>\n",
       "      <td>569.000000</td>\n",
       "      <td>569.000000</td>\n",
       "      <td>569.000000</td>\n",
       "      <td>569.000000</td>\n",
       "      <td>569.000000</td>\n",
       "      <td>569.000000</td>\n",
       "      <td>569.000000</td>\n",
       "      <td>569.000000</td>\n",
       "      <td>569.000000</td>\n",
       "      <td>569.000000</td>\n",
       "      <td>...</td>\n",
       "      <td>569.000000</td>\n",
       "      <td>569.000000</td>\n",
       "      <td>569.000000</td>\n",
       "      <td>569.000000</td>\n",
       "      <td>569.000000</td>\n",
       "      <td>569.000000</td>\n",
       "      <td>569.000000</td>\n",
       "      <td>569.000000</td>\n",
       "      <td>569.000000</td>\n",
       "      <td>569.000000</td>\n",
       "    </tr>\n",
       "    <tr>\n",
       "      <th>mean</th>\n",
       "      <td>14.127292</td>\n",
       "      <td>19.289649</td>\n",
       "      <td>91.969033</td>\n",
       "      <td>654.889104</td>\n",
       "      <td>0.096360</td>\n",
       "      <td>0.104341</td>\n",
       "      <td>0.088799</td>\n",
       "      <td>0.048919</td>\n",
       "      <td>0.181162</td>\n",
       "      <td>0.062798</td>\n",
       "      <td>...</td>\n",
       "      <td>16.269190</td>\n",
       "      <td>25.677223</td>\n",
       "      <td>107.261213</td>\n",
       "      <td>880.583128</td>\n",
       "      <td>0.132369</td>\n",
       "      <td>0.254265</td>\n",
       "      <td>0.272188</td>\n",
       "      <td>0.114606</td>\n",
       "      <td>0.290076</td>\n",
       "      <td>0.083946</td>\n",
       "    </tr>\n",
       "    <tr>\n",
       "      <th>std</th>\n",
       "      <td>3.524049</td>\n",
       "      <td>4.301036</td>\n",
       "      <td>24.298981</td>\n",
       "      <td>351.914129</td>\n",
       "      <td>0.014064</td>\n",
       "      <td>0.052813</td>\n",
       "      <td>0.079720</td>\n",
       "      <td>0.038803</td>\n",
       "      <td>0.027414</td>\n",
       "      <td>0.007060</td>\n",
       "      <td>...</td>\n",
       "      <td>4.833242</td>\n",
       "      <td>6.146258</td>\n",
       "      <td>33.602542</td>\n",
       "      <td>569.356993</td>\n",
       "      <td>0.022832</td>\n",
       "      <td>0.157336</td>\n",
       "      <td>0.208624</td>\n",
       "      <td>0.065732</td>\n",
       "      <td>0.061867</td>\n",
       "      <td>0.018061</td>\n",
       "    </tr>\n",
       "    <tr>\n",
       "      <th>min</th>\n",
       "      <td>6.981000</td>\n",
       "      <td>9.710000</td>\n",
       "      <td>43.790000</td>\n",
       "      <td>143.500000</td>\n",
       "      <td>0.052630</td>\n",
       "      <td>0.019380</td>\n",
       "      <td>0.000000</td>\n",
       "      <td>0.000000</td>\n",
       "      <td>0.106000</td>\n",
       "      <td>0.049960</td>\n",
       "      <td>...</td>\n",
       "      <td>7.930000</td>\n",
       "      <td>12.020000</td>\n",
       "      <td>50.410000</td>\n",
       "      <td>185.200000</td>\n",
       "      <td>0.071170</td>\n",
       "      <td>0.027290</td>\n",
       "      <td>0.000000</td>\n",
       "      <td>0.000000</td>\n",
       "      <td>0.156500</td>\n",
       "      <td>0.055040</td>\n",
       "    </tr>\n",
       "    <tr>\n",
       "      <th>25%</th>\n",
       "      <td>11.700000</td>\n",
       "      <td>16.170000</td>\n",
       "      <td>75.170000</td>\n",
       "      <td>420.300000</td>\n",
       "      <td>0.086370</td>\n",
       "      <td>0.064920</td>\n",
       "      <td>0.029560</td>\n",
       "      <td>0.020310</td>\n",
       "      <td>0.161900</td>\n",
       "      <td>0.057700</td>\n",
       "      <td>...</td>\n",
       "      <td>13.010000</td>\n",
       "      <td>21.080000</td>\n",
       "      <td>84.110000</td>\n",
       "      <td>515.300000</td>\n",
       "      <td>0.116600</td>\n",
       "      <td>0.147200</td>\n",
       "      <td>0.114500</td>\n",
       "      <td>0.064930</td>\n",
       "      <td>0.250400</td>\n",
       "      <td>0.071460</td>\n",
       "    </tr>\n",
       "    <tr>\n",
       "      <th>50%</th>\n",
       "      <td>13.370000</td>\n",
       "      <td>18.840000</td>\n",
       "      <td>86.240000</td>\n",
       "      <td>551.100000</td>\n",
       "      <td>0.095870</td>\n",
       "      <td>0.092630</td>\n",
       "      <td>0.061540</td>\n",
       "      <td>0.033500</td>\n",
       "      <td>0.179200</td>\n",
       "      <td>0.061540</td>\n",
       "      <td>...</td>\n",
       "      <td>14.970000</td>\n",
       "      <td>25.410000</td>\n",
       "      <td>97.660000</td>\n",
       "      <td>686.500000</td>\n",
       "      <td>0.131300</td>\n",
       "      <td>0.211900</td>\n",
       "      <td>0.226700</td>\n",
       "      <td>0.099930</td>\n",
       "      <td>0.282200</td>\n",
       "      <td>0.080040</td>\n",
       "    </tr>\n",
       "    <tr>\n",
       "      <th>75%</th>\n",
       "      <td>15.780000</td>\n",
       "      <td>21.800000</td>\n",
       "      <td>104.100000</td>\n",
       "      <td>782.700000</td>\n",
       "      <td>0.105300</td>\n",
       "      <td>0.130400</td>\n",
       "      <td>0.130700</td>\n",
       "      <td>0.074000</td>\n",
       "      <td>0.195700</td>\n",
       "      <td>0.066120</td>\n",
       "      <td>...</td>\n",
       "      <td>18.790000</td>\n",
       "      <td>29.720000</td>\n",
       "      <td>125.400000</td>\n",
       "      <td>1084.000000</td>\n",
       "      <td>0.146000</td>\n",
       "      <td>0.339100</td>\n",
       "      <td>0.382900</td>\n",
       "      <td>0.161400</td>\n",
       "      <td>0.317900</td>\n",
       "      <td>0.092080</td>\n",
       "    </tr>\n",
       "    <tr>\n",
       "      <th>max</th>\n",
       "      <td>28.110000</td>\n",
       "      <td>39.280000</td>\n",
       "      <td>188.500000</td>\n",
       "      <td>2501.000000</td>\n",
       "      <td>0.163400</td>\n",
       "      <td>0.345400</td>\n",
       "      <td>0.426800</td>\n",
       "      <td>0.201200</td>\n",
       "      <td>0.304000</td>\n",
       "      <td>0.097440</td>\n",
       "      <td>...</td>\n",
       "      <td>36.040000</td>\n",
       "      <td>49.540000</td>\n",
       "      <td>251.200000</td>\n",
       "      <td>4254.000000</td>\n",
       "      <td>0.222600</td>\n",
       "      <td>1.058000</td>\n",
       "      <td>1.252000</td>\n",
       "      <td>0.291000</td>\n",
       "      <td>0.663800</td>\n",
       "      <td>0.207500</td>\n",
       "    </tr>\n",
       "  </tbody>\n",
       "</table>\n",
       "<p>8 rows × 30 columns</p>\n",
       "</div>"
      ],
      "text/plain": [
       "       mean radius  mean texture  mean perimeter    mean area  \\\n",
       "count   569.000000    569.000000      569.000000   569.000000   \n",
       "mean     14.127292     19.289649       91.969033   654.889104   \n",
       "std       3.524049      4.301036       24.298981   351.914129   \n",
       "min       6.981000      9.710000       43.790000   143.500000   \n",
       "25%      11.700000     16.170000       75.170000   420.300000   \n",
       "50%      13.370000     18.840000       86.240000   551.100000   \n",
       "75%      15.780000     21.800000      104.100000   782.700000   \n",
       "max      28.110000     39.280000      188.500000  2501.000000   \n",
       "\n",
       "       mean smoothness  mean compactness  mean concavity  mean concave points  \\\n",
       "count       569.000000        569.000000      569.000000           569.000000   \n",
       "mean          0.096360          0.104341        0.088799             0.048919   \n",
       "std           0.014064          0.052813        0.079720             0.038803   \n",
       "min           0.052630          0.019380        0.000000             0.000000   \n",
       "25%           0.086370          0.064920        0.029560             0.020310   \n",
       "50%           0.095870          0.092630        0.061540             0.033500   \n",
       "75%           0.105300          0.130400        0.130700             0.074000   \n",
       "max           0.163400          0.345400        0.426800             0.201200   \n",
       "\n",
       "       mean symmetry  mean fractal dimension  ...  worst radius  \\\n",
       "count     569.000000              569.000000  ...    569.000000   \n",
       "mean        0.181162                0.062798  ...     16.269190   \n",
       "std         0.027414                0.007060  ...      4.833242   \n",
       "min         0.106000                0.049960  ...      7.930000   \n",
       "25%         0.161900                0.057700  ...     13.010000   \n",
       "50%         0.179200                0.061540  ...     14.970000   \n",
       "75%         0.195700                0.066120  ...     18.790000   \n",
       "max         0.304000                0.097440  ...     36.040000   \n",
       "\n",
       "       worst texture  worst perimeter   worst area  worst smoothness  \\\n",
       "count     569.000000       569.000000   569.000000        569.000000   \n",
       "mean       25.677223       107.261213   880.583128          0.132369   \n",
       "std         6.146258        33.602542   569.356993          0.022832   \n",
       "min        12.020000        50.410000   185.200000          0.071170   \n",
       "25%        21.080000        84.110000   515.300000          0.116600   \n",
       "50%        25.410000        97.660000   686.500000          0.131300   \n",
       "75%        29.720000       125.400000  1084.000000          0.146000   \n",
       "max        49.540000       251.200000  4254.000000          0.222600   \n",
       "\n",
       "       worst compactness  worst concavity  worst concave points  \\\n",
       "count         569.000000       569.000000            569.000000   \n",
       "mean            0.254265         0.272188              0.114606   \n",
       "std             0.157336         0.208624              0.065732   \n",
       "min             0.027290         0.000000              0.000000   \n",
       "25%             0.147200         0.114500              0.064930   \n",
       "50%             0.211900         0.226700              0.099930   \n",
       "75%             0.339100         0.382900              0.161400   \n",
       "max             1.058000         1.252000              0.291000   \n",
       "\n",
       "       worst symmetry  worst fractal dimension  \n",
       "count      569.000000               569.000000  \n",
       "mean         0.290076                 0.083946  \n",
       "std          0.061867                 0.018061  \n",
       "min          0.156500                 0.055040  \n",
       "25%          0.250400                 0.071460  \n",
       "50%          0.282200                 0.080040  \n",
       "75%          0.317900                 0.092080  \n",
       "max          0.663800                 0.207500  \n",
       "\n",
       "[8 rows x 30 columns]"
      ]
     },
     "execution_count": 6,
     "metadata": {},
     "output_type": "execute_result"
    }
   ],
   "source": [
    "raw_df.select_dtypes(include=['number']).describe()"
   ]
  },
  {
   "cell_type": "markdown",
   "id": "f12efc2b-7809-4d8f-8106-b0345dc78fb8",
   "metadata": {},
   "source": [
    "**_2) Categorical variables_**\n",
    "\n",
    "* As expected, the number of unique values in the 'target' column is $2$. "
   ]
  },
  {
   "cell_type": "code",
   "execution_count": 7,
   "id": "5a29ea53-db04-48c6-9ea4-ed686c8d8b69",
   "metadata": {},
   "outputs": [
    {
     "data": {
      "text/html": [
       "<div>\n",
       "<style scoped>\n",
       "    .dataframe tbody tr th:only-of-type {\n",
       "        vertical-align: middle;\n",
       "    }\n",
       "\n",
       "    .dataframe tbody tr th {\n",
       "        vertical-align: top;\n",
       "    }\n",
       "\n",
       "    .dataframe thead th {\n",
       "        text-align: right;\n",
       "    }\n",
       "</style>\n",
       "<table border=\"1\" class=\"dataframe\">\n",
       "  <thead>\n",
       "    <tr style=\"text-align: right;\">\n",
       "      <th></th>\n",
       "      <th>target</th>\n",
       "    </tr>\n",
       "  </thead>\n",
       "  <tbody>\n",
       "    <tr>\n",
       "      <th>count</th>\n",
       "      <td>569</td>\n",
       "    </tr>\n",
       "    <tr>\n",
       "      <th>unique</th>\n",
       "      <td>2</td>\n",
       "    </tr>\n",
       "    <tr>\n",
       "      <th>top</th>\n",
       "      <td>1</td>\n",
       "    </tr>\n",
       "    <tr>\n",
       "      <th>freq</th>\n",
       "      <td>357</td>\n",
       "    </tr>\n",
       "  </tbody>\n",
       "</table>\n",
       "</div>"
      ],
      "text/plain": [
       "        target\n",
       "count      569\n",
       "unique       2\n",
       "top          1\n",
       "freq       357"
      ]
     },
     "execution_count": 7,
     "metadata": {},
     "output_type": "execute_result"
    }
   ],
   "source": [
    "raw_df.select_dtypes(include=['object']).describe()"
   ]
  },
  {
   "cell_type": "markdown",
   "id": "fe9b528b-f09a-4be1-aba3-94c2417f671c",
   "metadata": {},
   "source": [
    "## Frequency distributions"
   ]
  },
  {
   "cell_type": "markdown",
   "id": "bdae9d40-0e56-451c-a9df-1489ad72019a",
   "metadata": {},
   "source": [
    "**_1) Continuous variables_**\n",
    "\n",
    "* All distributions are non-normal with a positive skew.\n",
    "\n",
    "    Note: [Skewness](https://en.wikipedia.org/wiki/Skewness) is a measurement of the distortion of symmetrical distribution or asymmetry in a data set. A standard normal distribution has a skewness of $0$.\n",
    "\n",
    "* Kurtosis was not formally measured. However, outliers appear to be present for the following variables: perimeter error, area error and fractal dimension error.\n",
    "\n",
    "    Note: [Kurtosis](https://en.wikipedia.org/wiki/Kurtosis) is a measure of the \"tailedness\" of a probability distribution. High kurtosis indicates there is an increased likelihood of extreme values (outliers). A standard normal distribution has a kurtosis of $3$."
   ]
  },
  {
   "cell_type": "code",
   "execution_count": 8,
   "id": "d53bb00f-7f28-497b-b330-7fe779d45c2f",
   "metadata": {},
   "outputs": [
    {
     "data": {
      "image/png": "[encoded data removed]",
      "text/plain": [
       "<Figure size 1280x720 with 30 Axes>"
      ]
     },
     "metadata": {},
     "output_type": "display_data"
    }
   ],
   "source": [
    "fig, axes = plt.subplots(\n",
    "    nrows=6, ncols=5, constrained_layout=True, figsize=(6.4*2, 4.8*1.5))\n",
    "i = 0\n",
    "axes = axes.flatten()\n",
    "for col in raw_df.select_dtypes(include=['number']).columns:\n",
    "    axes[i].hist(raw_df[col], color='dimgray', alpha=0.8, label='')\n",
    "    axes[i].set_title(col, fontsize=10, color='dimgray')\n",
    "    i += 1\n",
    "\n",
    "for ax in axes:\n",
    "    ax.tick_params(bottom=False, left=False)\n",
    "    ax.grid(False)\n",
    "    ax.spines[['top', 'right']].set_visible(False)\n",
    "    ax.spines[['left', 'bottom']].set_color('dimgray')"
   ]
  },
  {
   "cell_type": "markdown",
   "id": "816a09a2-309e-419d-975c-a81113e8507d",
   "metadata": {},
   "source": [
    "**_2) Categorical variables_**\n",
    "* The cardinality of the target variable is $2$.\n",
    "\n",
    "* There is a slight class imbalance with $62.7\\%$ of instances corresponding to a cancer diagnosis."
   ]
  },
  {
   "cell_type": "code",
   "execution_count": 9,
   "id": "6a77c820-a4d2-463d-9cea-41d0837d1600",
   "metadata": {},
   "outputs": [
    {
     "data": {
      "image/png": "[encoded data removed]",
      "text/plain": [
       "<Figure size 320x240 with 1 Axes>"
      ]
     },
     "metadata": {},
     "output_type": "display_data"
    }
   ],
   "source": [
    "# Frequency plots\n",
    "fig, axes = plt.subplots(\n",
    "    nrows=1, ncols=1, constrained_layout=True, figsize=(6.4/2, 4.8/2)\n",
    ")\n",
    "counts = raw_df['target'].value_counts()\n",
    "percs = raw_df['target'].value_counts(normalize=True)\n",
    "rects = axes.barh(counts.index, counts.values,\n",
    "                  color='dimgray', alpha=0.8)\n",
    "axes.bar_label(rects, labels=[str(round(x*100, 1)) +\n",
    "                              '%' for x in percs.values], padding=3)\n",
    "\n",
    "axes.tick_params(bottom=False, left=False)\n",
    "axes.grid(False)\n",
    "axes.spines[['top', 'right']].set_visible(False)\n",
    "axes.spines[['left', 'bottom']].set_color('dimgray')\n",
    "axes.set_title('target', fontsize=10, color='dimgray');"
   ]
  },
  {
   "cell_type": "markdown",
   "id": "c0c07d08-f5ab-4938-8fc8-7c6705dde07b",
   "metadata": {},
   "source": [
    "## Missing values\n",
    "* No missing values are present."
   ]
  },
  {
   "cell_type": "code",
   "execution_count": 10,
   "id": "36093b5f-d7a3-4e49-8c50-a10e31dbab08",
   "metadata": {},
   "outputs": [
    {
     "data": {
      "text/html": [
       "<div>\n",
       "<style scoped>\n",
       "    .dataframe tbody tr th:only-of-type {\n",
       "        vertical-align: middle;\n",
       "    }\n",
       "\n",
       "    .dataframe tbody tr th {\n",
       "        vertical-align: top;\n",
       "    }\n",
       "\n",
       "    .dataframe thead th {\n",
       "        text-align: right;\n",
       "    }\n",
       "</style>\n",
       "<table border=\"1\" class=\"dataframe\">\n",
       "  <thead>\n",
       "    <tr style=\"text-align: right;\">\n",
       "      <th></th>\n",
       "      <th>Count</th>\n",
       "      <th>%</th>\n",
       "    </tr>\n",
       "  </thead>\n",
       "  <tbody>\n",
       "  </tbody>\n",
       "</table>\n",
       "</div>"
      ],
      "text/plain": [
       "Empty DataFrame\n",
       "Columns: [Count, %]\n",
       "Index: []"
      ]
     },
     "metadata": {},
     "output_type": "display_data"
    },
    {
     "name": "stdout",
     "output_type": "stream",
     "text": [
      "Number of rows with more than one missing value: 0\n"
     ]
    }
   ],
   "source": [
    "# Identify columns with missing values\n",
    "nan_summary = pd.concat(\n",
    "    [raw_df.isnull().sum()[(raw_df.isnull().sum() > 1)],\n",
    "     raw_df.isnull().sum()[(raw_df.isnull().sum() > 1)] / raw_df.shape[0]],\n",
    "    axis=1, keys=['Count', '%']\n",
    ")\n",
    "display(nan_summary)\n",
    "\n",
    "# Count rows with more than one missing value\n",
    "rows_with_multiple_missing = raw_df[raw_df.isnull().sum(axis=1) > 1]\n",
    "print(f\"Number of rows with more than one missing value: {len(rows_with_multiple_missing)}\")"
   ]
  },
  {
   "cell_type": "markdown",
   "id": "829be66c-119c-452d-a6cd-bf60c1a04770",
   "metadata": {},
   "source": [
    "# Data cleansing"
   ]
  },
  {
   "cell_type": "markdown",
   "id": "7c8f7ddd-1365-456e-bb8d-2f8865d093c7",
   "metadata": {},
   "source": [
    "## Erroneous data\n",
    "* No duplicate rows are present.\n",
    "\n",
    "* Data exploration did not reveal any errors or differences in schema/formatting."
   ]
  },
  {
   "cell_type": "code",
   "execution_count": 11,
   "id": "2e91aad5-7c83-4bef-8216-d56e410662f2",
   "metadata": {},
   "outputs": [
    {
     "data": {
      "text/html": [
       "<div>\n",
       "<style scoped>\n",
       "    .dataframe tbody tr th:only-of-type {\n",
       "        vertical-align: middle;\n",
       "    }\n",
       "\n",
       "    .dataframe tbody tr th {\n",
       "        vertical-align: top;\n",
       "    }\n",
       "\n",
       "    .dataframe thead th {\n",
       "        text-align: right;\n",
       "    }\n",
       "</style>\n",
       "<table border=\"1\" class=\"dataframe\">\n",
       "  <thead>\n",
       "    <tr style=\"text-align: right;\">\n",
       "      <th></th>\n",
       "      <th>mean radius</th>\n",
       "      <th>mean texture</th>\n",
       "      <th>mean perimeter</th>\n",
       "      <th>mean area</th>\n",
       "      <th>mean smoothness</th>\n",
       "      <th>mean compactness</th>\n",
       "      <th>mean concavity</th>\n",
       "      <th>mean concave points</th>\n",
       "      <th>mean symmetry</th>\n",
       "      <th>mean fractal dimension</th>\n",
       "      <th>...</th>\n",
       "      <th>worst texture</th>\n",
       "      <th>worst perimeter</th>\n",
       "      <th>worst area</th>\n",
       "      <th>worst smoothness</th>\n",
       "      <th>worst compactness</th>\n",
       "      <th>worst concavity</th>\n",
       "      <th>worst concave points</th>\n",
       "      <th>worst symmetry</th>\n",
       "      <th>worst fractal dimension</th>\n",
       "      <th>target</th>\n",
       "    </tr>\n",
       "  </thead>\n",
       "  <tbody>\n",
       "  </tbody>\n",
       "</table>\n",
       "<p>0 rows × 31 columns</p>\n",
       "</div>"
      ],
      "text/plain": [
       "Empty DataFrame\n",
       "Columns: [mean radius, mean texture, mean perimeter, mean area, mean smoothness, mean compactness, mean concavity, mean concave points, mean symmetry, mean fractal dimension, radius error, texture error, perimeter error, area error, smoothness error, compactness error, concavity error, concave points error, symmetry error, fractal dimension error, worst radius, worst texture, worst perimeter, worst area, worst smoothness, worst compactness, worst concavity, worst concave points, worst symmetry, worst fractal dimension, target]\n",
       "Index: []\n",
       "\n",
       "[0 rows x 31 columns]"
      ]
     },
     "execution_count": 11,
     "metadata": {},
     "output_type": "execute_result"
    }
   ],
   "source": [
    "raw_df[raw_df.duplicated()]"
   ]
  },
  {
   "cell_type": "markdown",
   "id": "6ac632f7-1aeb-40da-85df-81c5889c4d93",
   "metadata": {},
   "source": [
    "## Train/test split\n",
    "* The raw data is divided using an 80/20 train/test split."
   ]
  },
  {
   "cell_type": "code",
   "execution_count": 12,
   "id": "67e53425-8687-48b4-99a1-62cb775b7e92",
   "metadata": {},
   "outputs": [
    {
     "name": "stdout",
     "output_type": "stream",
     "text": [
      "Train set dimensions: (455, 31)\n",
      "Test set dimensions: (114, 31)\n"
     ]
    }
   ],
   "source": [
    "# Divide train/test data\n",
    "X_cols = [x for x in raw_df.columns if x != 'target']\n",
    "X_train, X_test, y_train, y_test = train_test_split(\n",
    "    raw_df[X_cols], raw_df['target'], test_size=0.2, random_state=42\n",
    ")\n",
    "train_df = pd.concat([X_train, y_train], axis=1).reset_index(drop=True)\n",
    "test_df = pd.concat([X_test, y_test], axis=1).reset_index(drop=True)\n",
    "\n",
    "print(f'Train set dimensions: {train_df.shape}')\n",
    "print(f'Test set dimensions: {test_df.shape}')"
   ]
  },
  {
   "cell_type": "markdown",
   "id": "293a9fa6-3b2f-4336-ac50-df24d82aa91d",
   "metadata": {},
   "source": [
    "## Missing value imputation\n",
    "* No missing values are present."
   ]
  },
  {
   "cell_type": "code",
   "execution_count": 13,
   "id": "1c0f9ab9-59ff-4ea2-977a-dd06137cbb73",
   "metadata": {},
   "outputs": [
    {
     "name": "stdout",
     "output_type": "stream",
     "text": [
      "\n",
      "-----------------------------Missing values in training set-----------------------------\n"
     ]
    },
    {
     "data": {
      "text/html": [
       "<div>\n",
       "<style scoped>\n",
       "    .dataframe tbody tr th:only-of-type {\n",
       "        vertical-align: middle;\n",
       "    }\n",
       "\n",
       "    .dataframe tbody tr th {\n",
       "        vertical-align: top;\n",
       "    }\n",
       "\n",
       "    .dataframe thead th {\n",
       "        text-align: right;\n",
       "    }\n",
       "</style>\n",
       "<table border=\"1\" class=\"dataframe\">\n",
       "  <thead>\n",
       "    <tr style=\"text-align: right;\">\n",
       "      <th></th>\n",
       "      <th>Count</th>\n",
       "      <th>%</th>\n",
       "    </tr>\n",
       "  </thead>\n",
       "  <tbody>\n",
       "  </tbody>\n",
       "</table>\n",
       "</div>"
      ],
      "text/plain": [
       "Empty DataFrame\n",
       "Columns: [Count, %]\n",
       "Index: []"
      ]
     },
     "metadata": {},
     "output_type": "display_data"
    },
    {
     "name": "stdout",
     "output_type": "stream",
     "text": [
      "\n",
      "-----------------------------Missing values in test set-----------------------------\n"
     ]
    },
    {
     "data": {
      "text/html": [
       "<div>\n",
       "<style scoped>\n",
       "    .dataframe tbody tr th:only-of-type {\n",
       "        vertical-align: middle;\n",
       "    }\n",
       "\n",
       "    .dataframe tbody tr th {\n",
       "        vertical-align: top;\n",
       "    }\n",
       "\n",
       "    .dataframe thead th {\n",
       "        text-align: right;\n",
       "    }\n",
       "</style>\n",
       "<table border=\"1\" class=\"dataframe\">\n",
       "  <thead>\n",
       "    <tr style=\"text-align: right;\">\n",
       "      <th></th>\n",
       "      <th>Count</th>\n",
       "      <th>%</th>\n",
       "    </tr>\n",
       "  </thead>\n",
       "  <tbody>\n",
       "  </tbody>\n",
       "</table>\n",
       "</div>"
      ],
      "text/plain": [
       "Empty DataFrame\n",
       "Columns: [Count, %]\n",
       "Index: []"
      ]
     },
     "metadata": {},
     "output_type": "display_data"
    }
   ],
   "source": [
    "# Missing values in the training data\n",
    "train_nan_summary = pd.concat([train_df.isnull().sum()[(train_df.isnull().sum() > 1)],\n",
    "                               train_df.isnull().sum()[(train_df.isnull().sum() > 1)] / train_df.shape[0]],\n",
    "                              axis=1, keys=['Count', '%']\n",
    "                             )\n",
    "\n",
    "# Missing values in the test data\n",
    "test_nan_summary = pd.concat([test_df.isnull().sum()[(test_df.isnull().sum() > 1)],\n",
    "                               test_df.isnull().sum()[(test_df.isnull().sum() > 1)] / test_df.shape[0]],\n",
    "                              axis=1, keys=['Count', '%']\n",
    "                             )\n",
    "print(f'\\n-----------------------------Missing values in training set-----------------------------')\n",
    "display(train_nan_summary)\n",
    "print(f'\\n-----------------------------Missing values in test set-----------------------------')\n",
    "display(test_nan_summary)"
   ]
  },
  {
   "cell_type": "markdown",
   "id": "53ef2a23-36bd-4f30-afe5-dfa5edfc4f98",
   "metadata": {},
   "source": [
    "## Outliers\n",
    "* The outliers in the 'perimeter error', 'area error' and 'fractal dimension' error column are left untouched. Instead a baseline model will be trained and optimised with all available training data. If performance is OK, there is no need to make amendments. If a value has a significant and detrimental impact on performance, it may be excluded.\n",
    "\n",
    "    *Note: The distribution are not normal so outliers cannot be excluded based on z-score.*\n",
    "\n",
    "* If an extreme point does have a strong negative impact on predictive performance several mitigration strategies could be utilised:\n",
    "\n",
    "     1. Trimming:\n",
    "        * If the points are truly anomalous, and not worth incorporating, they can be removed.\n",
    "        * Risk losing information.\n",
    "    \n",
    "    2. Winsorization\n",
    "        * Cap the data at a threshold\n",
    "        * A 90% winorization:\n",
    "            * Cap the bottom 5% of values at the 5th percentile\n",
    "            * Cap the top 5% of values at the 95th percentile"
   ]
  },
  {
   "cell_type": "markdown",
   "id": "b430ce49-7cc7-45e6-99e5-4569ad21a864",
   "metadata": {},
   "source": [
    "# Save"
   ]
  },
  {
   "cell_type": "code",
   "execution_count": 14,
   "id": "4fe7489a-d5cb-48a8-9966-fbc58fc40689",
   "metadata": {},
   "outputs": [],
   "source": [
    "train_df.to_csv('../data/cleaned/clean_train.csv', index=False)\n",
    "test_df.to_csv('../data/cleaned/clean_test.csv', index=False)"
   ]
  },
  {
   "cell_type": "code",
   "execution_count": null,
   "id": "76532783-89b0-4e53-8041-97ea105a4755",
   "metadata": {},
   "outputs": [],
   "source": []
  },
  {
   "cell_type": "code",
   "execution_count": null,
   "id": "9943ee28-4212-46f0-9dc1-0f3fb6026d8b",
   "metadata": {},
   "outputs": [],
   "source": []
  },
  {
   "cell_type": "code",
   "execution_count": null,
   "id": "49f377dd-8c44-4477-9abe-002cab09f403",
   "metadata": {},
   "outputs": [],
   "source": []
  },
  {
   "cell_type": "code",
   "execution_count": null,
   "id": "f63a4620-3f0d-496d-aafe-3e2a74425095",
   "metadata": {},
   "outputs": [],
   "source": []
  },
  {
   "cell_type": "code",
   "execution_count": null,
   "id": "e1882e11-eed3-49c8-840b-f1822d6c43b9",
   "metadata": {},
   "outputs": [],
   "source": []
  },
  {
   "cell_type": "code",
   "execution_count": null,
   "id": "9c8a6dd7-6b68-486a-b6c4-5f9a1dba0985",
   "metadata": {},
   "outputs": [],
   "source": []
  },
  {
   "cell_type": "code",
   "execution_count": null,
   "id": "10ad46d9-a155-4a27-a636-ebc50de59cfb",
   "metadata": {},
   "outputs": [],
   "source": []
  },
  {
   "cell_type": "code",
   "execution_count": null,
   "id": "a633de57-8b8d-44dd-92a2-9ba8dcf28de7",
   "metadata": {},
   "outputs": [],
   "source": []
  },
  {
   "cell_type": "code",
   "execution_count": null,
   "id": "d3e5d5e3-9921-41e8-a0c1-5e7d6f83bbf7",
   "metadata": {},
   "outputs": [],
   "source": []
  },
  {
   "cell_type": "code",
   "execution_count": null,
   "id": "1a9a78a7-7579-4080-9b6b-e308a018b47b",
   "metadata": {},
   "outputs": [],
   "source": []
  },
  {
   "cell_type": "markdown",
   "id": "fd344acd-1f88-441c-887a-1dcb0600cccb",
   "metadata": {},
   "source": [
    "##### 2) Association between two categorical variables"
   ]
  },
  {
   "cell_type": "markdown",
   "id": "c137d0a0-35f4-4c26-aaf1-dfc73a731e5f",
   "metadata": {},
   "source": [
    "**a) Chi-squared & Cramer's V**\n",
    "\n",
    "* Together these tools can be used to evaluate whether two categorical variables are <u>independent</u> and the strength of <u>association</u>."
   ]
  },
  {
   "cell_type": "markdown",
   "id": "0f2d1b7b-8676-44d7-89d9-b345ab960f5d",
   "metadata": {},
   "source": [
    "**_Chi-squared_**\n",
    "\n",
    "1. What it Measures:\n",
    "\n",
    "    * Whether two categorical variables are <u>independent</u>.\n",
    "       \n",
    "    * Goodness of fit (i.e. how well a model fits observations).\n",
    "\n",
    "2. Assumptions:\n",
    "\n",
    "    * No distribution of the variables is assumed (i.e. non-parametric).\n",
    "\n",
    "    * The data in the cells should be frequencies, or counts of cases.\n",
    "  \n",
    "    * The levels (or categories) of the variables are mutually exclusive.\n",
    "\n",
    "4. Hypotheses:\n",
    "\n",
    "   * Null hypothesis $H_0$: There is no association or independence between the two categorical variables.\n",
    "  \n",
    "   * Alternate hypothesis $H_1$: There is a significant association or dependence between the two categorical variables.\n",
    "\n",
    "6. Test statistic:\n",
    "\n",
    "    * The test statistic is chi-squared distributed under the null hypothesis $H_0$\n",
    "\n",
    "        $\\chi^2  \\sim \\chi^2(k)$\n",
    "    \n",
    "        *Where k is the number of degrees of freedom*\n",
    "    \n",
    "        $ \\chi^2 = \\sum_i \\frac{(O_i-E_i)^2}{E_i}$\n",
    "\n",
    "        *Where $O_i$ is the observed value of interest and $E_i$ is the expected value.*\n",
    "\n",
    "7. Steps:\n",
    "\n",
    "    * The test statistic is calculated using a contingency table.\n",
    "\n",
    "    * If the p-value of the test statistic is below the chosen threshold, there is a statistically significant difference between the expected frequencies and the observed frequencies in one or more categories of the contingency table.\n",
    "\n",
    "[Source](https://en.wikipedia.org/wiki/Chi-squared_test)"
   ]
  },
  {
   "cell_type": "markdown",
   "id": "5f446ef3-6a7e-40dc-ac9f-3937d5afed77",
   "metadata": {},
   "source": [
    "**_Cramer's V_**\n",
    "\n",
    "1. What it Measures:\n",
    "\n",
    "    * An effect size measurement for the chi-square test of independence.\n",
    "\n",
    "        *Note: For smaller sample sizes or tables with a small number of cells, alternatives like the phi coefficient may be more suitable.*\n",
    "\n",
    "    * It measures strength of <u>association</u> between two categorical variables\n",
    "  \n",
    "1. Interpretation:\n",
    "\n",
    "    $V \\in [0, 1]$\n",
    "\n",
    "    *A value close to $0$ indicates a weak association, while a value close to $1$ indicates a strong association.*\n",
    "\n",
    "[Source](https://en.wikipedia.org/wiki/Cram%C3%A9r%27s_V)"
   ]
  },
  {
   "cell_type": "markdown",
   "id": "09726c1a-e505-408a-bf53-bf85761f589b",
   "metadata": {},
   "source": [
    "## Feature engineering"
   ]
  },
  {
   "cell_type": "markdown",
   "id": "0dff19f8-180a-4efd-b856-94615b7307be",
   "metadata": {},
   "source": [
    "### Feature selection\n",
    "* No features are dropped. However, PCA is conducted after splitting the data."
   ]
  },
  {
   "cell_type": "code",
   "execution_count": null,
   "id": "225404b2-3571-4933-9e37-ce664f038cc5",
   "metadata": {},
   "outputs": [],
   "source": [
    "# Feature view\n",
    "feature_cols = [x for x in clean_df.columns if x!='target']\n",
    "clean_features_df = clean_df.loc[:, feature_cols]\n",
    "clean_features_df.head()"
   ]
  },
  {
   "cell_type": "code",
   "execution_count": null,
   "id": "5cfbe334-41b5-452a-a369-d23418ea862b",
   "metadata": {},
   "outputs": [],
   "source": [
    "# Target view\n",
    "target_cols = ['target']\n",
    "clean_target_df = clean_df.loc[:, target_cols]\n",
    "clean_target_df.head()"
   ]
  },
  {
   "cell_type": "markdown",
   "id": "a93becae-e1ca-4594-abf4-12a34c1eb874",
   "metadata": {},
   "source": [
    "### Train/test split\n",
    "* All transformations where data leakage could occur (i.e. PCA) are conducted after the train/test split."
   ]
  },
  {
   "cell_type": "code",
   "execution_count": null,
   "id": "9128d090-44ec-4369-b4a3-926fc31d6fbf",
   "metadata": {},
   "outputs": [],
   "source": [
    "# Train/test split\n",
    "X_train, X_test, y_train, y_test = train_test_split(clean_features_df, clean_target_df, test_size=0.33, random_state=0)\n",
    "\n",
    "# Reset index\n",
    "list_of_dataframes = [X_train, X_test, y_train, y_test]\n",
    "for df in list_of_dataframes:\n",
    "    df.reset_index(drop=True, inplace=True)\n",
    "\n",
    "# Print dimensions\n",
    "print(f\"X_train: {X_train.shape[0]} rows, {X_train.shape[1]} cols\")\n",
    "print(f\"y_train: {y_train.shape[0]} rows, {y_train.shape[1]} cols\")\n",
    "print(\"\\n\")\n",
    "print(f\"X_test: {X_test.shape[0]} rows, {X_test.shape[1]} cols\")\n",
    "print(f\"y_test: {y_test.shape[0]} rows, {y_test.shape[1]} cols\")"
   ]
  },
  {
   "cell_type": "markdown",
   "id": "c9bf2d62-245e-43fb-b5cc-026b1619cd19",
   "metadata": {},
   "source": [
    "### Transform continuous variables\n",
    "\n",
    "* The correlation matrix displaying Pearson's correlation coefficient between each predictive feature indicates multicollinearity.\n",
    "\n",
    "    *Note: Multicollinearity is when two or more independent variables (i.e. predictive features) are highly correlated, meaning they are <u>linearly</u> dependent on each other.*\n",
    "\n",
    "* This makes it difficult to isolate the individual effects of each variable on the dependent variable. In regression tasks, this leads to problems assessing feature importance due to misleading p-values and unstable coefficients with large confidence intervals.\n",
    "\n",
    "* Here, PCA is used to address multicollinearity. This has the added advantage of reducing dimensionality."
   ]
  },
  {
   "cell_type": "markdown",
   "id": "c204270c-68ba-43ea-a945-c6ab9e4a2f87",
   "metadata": {},
   "source": [
    "**Step 4: Apply PCA to test data**\n",
    "\n",
    "* The standardised test data is projected onto the same low-dimension space as that of the training data."
   ]
  },
  {
   "cell_type": "code",
   "execution_count": null,
   "id": "ca119b73-92fd-41cb-b8a4-86fec0bee0dc",
   "metadata": {},
   "outputs": [],
   "source": [
    "X_test_pca = pca.transform(X_test_standardised)\n",
    "X_test_pca_df = pd.DataFrame(X_test_pca)\n",
    "X_test_pca_df.head()\n",
    "\n",
    "print(f\"X_test_pca_df: {X_test_pca_df.shape[0]} rows, {X_test_pca_df.shape[1]} cols\")"
   ]
  },
  {
   "cell_type": "markdown",
   "id": "c06d0311-8a70-46a9-8480-e13f1cdee340",
   "metadata": {},
   "source": [
    "## Save"
   ]
  },
  {
   "cell_type": "code",
   "execution_count": null,
   "id": "4c391580-65f6-43cf-975b-f157261b104a",
   "metadata": {},
   "outputs": [],
   "source": [
    "train_df = pd.concat([X_train_pca_df, y_train], axis=1)\n",
    "test_df = pd.concat([X_test_pca_df, y_test], axis=1)"
   ]
  },
  {
   "cell_type": "code",
   "execution_count": null,
   "id": "e4691325-a89a-4781-9192-20496a16b858",
   "metadata": {},
   "outputs": [],
   "source": [
    "train_df.to_csv(cf.file_directory('cleaned') + 'train_df.csv', index=False)\n",
    "test_df.to_csv(cf.file_directory('cleaned') + 'test_df.csv', index=False)"
   ]
  }
 ],
 "metadata": {
  "kernelspec": {
   "display_name": "topic_analyses",
   "language": "python",
   "name": "topic_analyses"
  },
  "language_info": {
   "codemirror_mode": {
    "name": "ipython",
    "version": 3
   },
   "file_extension": ".py",
   "mimetype": "text/x-python",
   "name": "python",
   "nbconvert_exporter": "python",
   "pygments_lexer": "ipython3",
   "version": "3.11.5"
  }
 },
 "nbformat": 4,
 "nbformat_minor": 5
}
